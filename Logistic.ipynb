{
  "nbformat": 4,
  "nbformat_minor": 0,
  "metadata": {
    "colab": {
      "name": "Logistic.ipynb",
      "provenance": [],
      "collapsed_sections": [],
      "machine_shape": "hm"
    },
    "kernelspec": {
      "name": "python3",
      "display_name": "Python 3"
    },
    "accelerator": "GPU"
  },
  "cells": [
    {
      "cell_type": "markdown",
      "metadata": {
        "id": "-ivbzZNPs1u2",
        "colab_type": "text"
      },
      "source": [
        "# 1. Preparation"
      ]
    },
    {
      "cell_type": "code",
      "metadata": {
        "id": "q4tCVHuXA-6O",
        "colab_type": "code",
        "outputId": "b17b16cf-809f-4496-893b-199edf960917",
        "colab": {
          "base_uri": "https://localhost:8080/",
          "height": 127
        }
      },
      "source": [
        "# Mount to Google Drive\n",
        "from google.colab import drive\n",
        "drive.mount('/content/gdrive/')"
      ],
      "execution_count": 3,
      "outputs": [
        {
          "output_type": "stream",
          "text": [
            "Go to this URL in a browser: https://accounts.google.com/o/oauth2/auth?client_id=947318989803-6bn6qk8qdgf4n4g3pfee6491hc0brc4i.apps.googleusercontent.com&redirect_uri=urn%3aietf%3awg%3aoauth%3a2.0%3aoob&response_type=code&scope=email%20https%3a%2f%2fwww.googleapis.com%2fauth%2fdocs.test%20https%3a%2f%2fwww.googleapis.com%2fauth%2fdrive%20https%3a%2f%2fwww.googleapis.com%2fauth%2fdrive.photos.readonly%20https%3a%2f%2fwww.googleapis.com%2fauth%2fpeopleapi.readonly\n",
            "\n",
            "Enter your authorization code:\n",
            "··········\n",
            "Mounted at /content/gdrive/\n"
          ],
          "name": "stdout"
        }
      ]
    },
    {
      "cell_type": "code",
      "metadata": {
        "id": "7WEFu0j_TNZS",
        "colab_type": "code",
        "outputId": "9da1e943-9737-412d-de1f-4b559e49d202",
        "colab": {
          "base_uri": "https://localhost:8080/",
          "height": 1000
        }
      },
      "source": [
        "# Unzip the datasource file\n",
        "!sudo apt-get update\n",
        "!sudo apt-get install wget\n",
        "!wget --load-cookies /tmp/cookies.txt \"https://docs.google.com/uc?export=download&confirm=$(wget --quiet --save-cookies /tmp/cookies.txt --keep-session-cookies --no-check-certificate 'https://docs.google.com/uc?export=download&id=1AL0Rh5mjPgQH3pKrWqJlxVcbuAgXbON7' -O- | sed -rn 's/.*confirm=([0-9A-Za-z_]+).*/\\1\\n/p')&id=1AL0Rh5mjPgQH3pKrWqJlxVcbuAgXbON7\" -O data.zip && rm -rf /tmp/cookies.txt\n",
        "from zipfile import ZipFile\n",
        "with ZipFile('./gdrive/My Drive/acse-miniproject.zip', 'r') as zipObj:\n",
        "    print(\"Started unzipping... \\n\")\n",
        "    # Extract all the contents of zip file in current directory\n",
        "    zipObj.extractall()\n",
        "    print(\"Files unziped sucessfully\\n\")\n",
        "!ls"
      ],
      "execution_count": 4,
      "outputs": [
        {
          "output_type": "stream",
          "text": [
            "Get:1 https://cloud.r-project.org/bin/linux/ubuntu bionic-cran35/ InRelease [3,626 B]\n",
            "Get:2 https://cloud.r-project.org/bin/linux/ubuntu bionic-cran35/ Packages [92.1 kB]\n",
            "Ign:3 https://developer.download.nvidia.com/compute/cuda/repos/ubuntu1804/x86_64  InRelease\n",
            "Get:4 http://security.ubuntu.com/ubuntu bionic-security InRelease [88.7 kB]\n",
            "Hit:5 http://archive.ubuntu.com/ubuntu bionic InRelease\n",
            "Hit:6 http://ppa.launchpad.net/graphics-drivers/ppa/ubuntu bionic InRelease\n",
            "Ign:7 https://developer.download.nvidia.com/compute/machine-learning/repos/ubuntu1804/x86_64  InRelease\n",
            "Hit:8 https://developer.download.nvidia.com/compute/cuda/repos/ubuntu1804/x86_64  Release\n",
            "Hit:9 https://developer.download.nvidia.com/compute/machine-learning/repos/ubuntu1804/x86_64  Release\n",
            "Get:10 http://archive.ubuntu.com/ubuntu bionic-updates InRelease [88.7 kB]\n",
            "Get:13 http://ppa.launchpad.net/marutter/c2d4u3.5/ubuntu bionic InRelease [15.4 kB]\n",
            "Get:14 http://security.ubuntu.com/ubuntu bionic-security/universe amd64 Packages [852 kB]\n",
            "Get:15 http://ppa.launchpad.net/marutter/c2d4u3.5/ubuntu bionic/main Sources [1,818 kB]\n",
            "Get:16 http://archive.ubuntu.com/ubuntu bionic-backports InRelease [74.6 kB]\n",
            "Get:17 http://security.ubuntu.com/ubuntu bionic-security/main amd64 Packages [928 kB]\n",
            "Get:18 http://archive.ubuntu.com/ubuntu bionic-updates/multiverse amd64 Packages [20.1 kB]\n",
            "Get:19 http://archive.ubuntu.com/ubuntu bionic-updates/main amd64 Packages [1,226 kB]\n",
            "Get:20 http://security.ubuntu.com/ubuntu bionic-security/restricted amd64 Packages [58.7 kB]\n",
            "Get:21 http://security.ubuntu.com/ubuntu bionic-security/multiverse amd64 Packages [8,815 B]\n",
            "Get:22 http://archive.ubuntu.com/ubuntu bionic-updates/universe amd64 Packages [1,385 kB]\n",
            "Get:23 http://archive.ubuntu.com/ubuntu bionic-updates/restricted amd64 Packages [73.6 kB]\n",
            "Get:24 http://ppa.launchpad.net/marutter/c2d4u3.5/ubuntu bionic/main amd64 Packages [876 kB]\n",
            "Fetched 7,611 kB in 6s (1,297 kB/s)\n",
            "Reading package lists... Done\n",
            "Reading package lists... Done\n",
            "Building dependency tree       \n",
            "Reading state information... Done\n",
            "wget is already the newest version (1.19.4-1ubuntu2.2).\n",
            "0 upgraded, 0 newly installed, 0 to remove and 52 not upgraded.\n",
            "--2020-05-22 07:17:01--  https://docs.google.com/uc?export=download&confirm=5oKt&id=1AL0Rh5mjPgQH3pKrWqJlxVcbuAgXbON7\n",
            "Resolving docs.google.com (docs.google.com)... 74.125.203.100, 74.125.203.138, 74.125.203.113, ...\n",
            "Connecting to docs.google.com (docs.google.com)|74.125.203.100|:443... connected.\n",
            "HTTP request sent, awaiting response... 302 Moved Temporarily\n",
            "Location: https://doc-00-14-docs.googleusercontent.com/docs/securesc/vnvkv72bg3t5l874b36vltsechlbuu6k/vo8kklvu9dijmro6qqk033quh1i8if3g/1590131775000/11747609020053411276/04722771887380112281Z/1AL0Rh5mjPgQH3pKrWqJlxVcbuAgXbON7?e=download [following]\n",
            "--2020-05-22 07:17:01--  https://doc-00-14-docs.googleusercontent.com/docs/securesc/vnvkv72bg3t5l874b36vltsechlbuu6k/vo8kklvu9dijmro6qqk033quh1i8if3g/1590131775000/11747609020053411276/04722771887380112281Z/1AL0Rh5mjPgQH3pKrWqJlxVcbuAgXbON7?e=download\n",
            "Resolving doc-00-14-docs.googleusercontent.com (doc-00-14-docs.googleusercontent.com)... 74.125.204.132, 2404:6800:4008:c04::84\n",
            "Connecting to doc-00-14-docs.googleusercontent.com (doc-00-14-docs.googleusercontent.com)|74.125.204.132|:443... connected.\n",
            "HTTP request sent, awaiting response... 302 Found\n",
            "Location: https://docs.google.com/nonceSigner?nonce=j6fmd7s1sabba&continue=https://doc-00-14-docs.googleusercontent.com/docs/securesc/vnvkv72bg3t5l874b36vltsechlbuu6k/vo8kklvu9dijmro6qqk033quh1i8if3g/1590131775000/11747609020053411276/04722771887380112281Z/1AL0Rh5mjPgQH3pKrWqJlxVcbuAgXbON7?e%3Ddownload&hash=76vt8h7q0sd3hbk2a02f4iorll3srgtc [following]\n",
            "--2020-05-22 07:17:01--  https://docs.google.com/nonceSigner?nonce=j6fmd7s1sabba&continue=https://doc-00-14-docs.googleusercontent.com/docs/securesc/vnvkv72bg3t5l874b36vltsechlbuu6k/vo8kklvu9dijmro6qqk033quh1i8if3g/1590131775000/11747609020053411276/04722771887380112281Z/1AL0Rh5mjPgQH3pKrWqJlxVcbuAgXbON7?e%3Ddownload&hash=76vt8h7q0sd3hbk2a02f4iorll3srgtc\n",
            "Connecting to docs.google.com (docs.google.com)|74.125.203.100|:443... connected.\n",
            "HTTP request sent, awaiting response... 302 Found\n",
            "Location: https://doc-00-14-docs.googleusercontent.com/docs/securesc/vnvkv72bg3t5l874b36vltsechlbuu6k/vo8kklvu9dijmro6qqk033quh1i8if3g/1590131775000/11747609020053411276/04722771887380112281Z/1AL0Rh5mjPgQH3pKrWqJlxVcbuAgXbON7?e=download&nonce=j6fmd7s1sabba&user=04722771887380112281Z&hash=goiqtnv0j1t08ecpch87lvdc6p2uokeh [following]\n",
            "--2020-05-22 07:17:02--  https://doc-00-14-docs.googleusercontent.com/docs/securesc/vnvkv72bg3t5l874b36vltsechlbuu6k/vo8kklvu9dijmro6qqk033quh1i8if3g/1590131775000/11747609020053411276/04722771887380112281Z/1AL0Rh5mjPgQH3pKrWqJlxVcbuAgXbON7?e=download&nonce=j6fmd7s1sabba&user=04722771887380112281Z&hash=goiqtnv0j1t08ecpch87lvdc6p2uokeh\n",
            "Connecting to doc-00-14-docs.googleusercontent.com (doc-00-14-docs.googleusercontent.com)|74.125.204.132|:443... connected.\n",
            "HTTP request sent, awaiting response... 200 OK\n",
            "Length: unspecified [application/zip]\n",
            "Saving to: ‘data.zip’\n",
            "\n",
            "data.zip                [            <=>     ] 256.54M  60.0MB/s    in 4.3s    \n",
            "\n",
            "2020-05-22 07:17:06 (60.0 MB/s) - ‘data.zip’ saved [269003169]\n",
            "\n",
            "Started unzipping... \n",
            "\n",
            "Files unziped sucessfully\n",
            "\n",
            "data.zip  gdrive  mapping.json\tmapping.py  sample_data  test  train\n"
          ],
          "name": "stdout"
        }
      ]
    },
    {
      "cell_type": "code",
      "metadata": {
        "id": "7NYHG74oTK74",
        "colab_type": "code",
        "outputId": "f62a226a-4f4e-4308-a2b0-d3c0931153d1",
        "colab": {
          "base_uri": "https://localhost:8080/",
          "height": 577
        }
      },
      "source": [
        "# install required packages\n",
        "!pip install pycm livelossplot\n",
        "%pylab inline"
      ],
      "execution_count": 5,
      "outputs": [
        {
          "output_type": "stream",
          "text": [
            "Collecting pycm\n",
            "\u001b[?25l  Downloading https://files.pythonhosted.org/packages/ee/f1/47adb10e9e0a112fe601645de8ff9174cd5ded8728ac8e720532ab78503c/pycm-2.7-py2.py3-none-any.whl (57kB)\n",
            "\r\u001b[K     |█████▋                          | 10kB 24.9MB/s eta 0:00:01\r\u001b[K     |███████████▎                    | 20kB 1.7MB/s eta 0:00:01\r\u001b[K     |█████████████████               | 30kB 2.3MB/s eta 0:00:01\r\u001b[K     |██████████████████████▋         | 40kB 2.5MB/s eta 0:00:01\r\u001b[K     |████████████████████████████▎   | 51kB 2.0MB/s eta 0:00:01\r\u001b[K     |████████████████████████████████| 61kB 1.9MB/s \n",
            "\u001b[?25hCollecting livelossplot\n",
            "  Downloading https://files.pythonhosted.org/packages/7c/e4/a7884b57113dfe84d3565418820feae7a20964438beb1088b2b08820ad94/livelossplot-0.5.0-py3-none-any.whl\n",
            "Collecting art>=1.8\n",
            "\u001b[?25l  Downloading https://files.pythonhosted.org/packages/22/dd/f7be08119239db50f80285444323e58c81d6443158ac5f8b401b3fedb4d0/art-4.7-py2.py3-none-any.whl (547kB)\n",
            "\u001b[K     |████████████████████████████████| 552kB 7.0MB/s \n",
            "\u001b[?25hRequirement already satisfied: numpy>=1.9.0 in /usr/local/lib/python3.6/dist-packages (from pycm) (1.18.4)\n",
            "Requirement already satisfied: matplotlib; python_version >= \"3.6\" in /usr/local/lib/python3.6/dist-packages (from livelossplot) (3.2.1)\n",
            "Requirement already satisfied: ipython in /usr/local/lib/python3.6/dist-packages (from livelossplot) (5.5.0)\n",
            "Requirement already satisfied: pyparsing!=2.0.4,!=2.1.2,!=2.1.6,>=2.0.1 in /usr/local/lib/python3.6/dist-packages (from matplotlib; python_version >= \"3.6\"->livelossplot) (2.4.7)\n",
            "Requirement already satisfied: kiwisolver>=1.0.1 in /usr/local/lib/python3.6/dist-packages (from matplotlib; python_version >= \"3.6\"->livelossplot) (1.2.0)\n",
            "Requirement already satisfied: cycler>=0.10 in /usr/local/lib/python3.6/dist-packages (from matplotlib; python_version >= \"3.6\"->livelossplot) (0.10.0)\n",
            "Requirement already satisfied: python-dateutil>=2.1 in /usr/local/lib/python3.6/dist-packages (from matplotlib; python_version >= \"3.6\"->livelossplot) (2.8.1)\n",
            "Requirement already satisfied: decorator in /usr/local/lib/python3.6/dist-packages (from ipython->livelossplot) (4.4.2)\n",
            "Requirement already satisfied: traitlets>=4.2 in /usr/local/lib/python3.6/dist-packages (from ipython->livelossplot) (4.3.3)\n",
            "Requirement already satisfied: pexpect; sys_platform != \"win32\" in /usr/local/lib/python3.6/dist-packages (from ipython->livelossplot) (4.8.0)\n",
            "Requirement already satisfied: pickleshare in /usr/local/lib/python3.6/dist-packages (from ipython->livelossplot) (0.7.5)\n",
            "Requirement already satisfied: prompt-toolkit<2.0.0,>=1.0.4 in /usr/local/lib/python3.6/dist-packages (from ipython->livelossplot) (1.0.18)\n",
            "Requirement already satisfied: simplegeneric>0.8 in /usr/local/lib/python3.6/dist-packages (from ipython->livelossplot) (0.8.1)\n",
            "Requirement already satisfied: setuptools>=18.5 in /usr/local/lib/python3.6/dist-packages (from ipython->livelossplot) (46.3.0)\n",
            "Requirement already satisfied: pygments in /usr/local/lib/python3.6/dist-packages (from ipython->livelossplot) (2.1.3)\n",
            "Requirement already satisfied: six in /usr/local/lib/python3.6/dist-packages (from cycler>=0.10->matplotlib; python_version >= \"3.6\"->livelossplot) (1.12.0)\n",
            "Requirement already satisfied: ipython-genutils in /usr/local/lib/python3.6/dist-packages (from traitlets>=4.2->ipython->livelossplot) (0.2.0)\n",
            "Requirement already satisfied: ptyprocess>=0.5 in /usr/local/lib/python3.6/dist-packages (from pexpect; sys_platform != \"win32\"->ipython->livelossplot) (0.6.0)\n",
            "Requirement already satisfied: wcwidth in /usr/local/lib/python3.6/dist-packages (from prompt-toolkit<2.0.0,>=1.0.4->ipython->livelossplot) (0.1.9)\n",
            "Installing collected packages: art, pycm, livelossplot\n",
            "Successfully installed art-4.7 livelossplot-0.5.0 pycm-2.7\n",
            "Populating the interactive namespace from numpy and matplotlib\n"
          ],
          "name": "stdout"
        }
      ]
    },
    {
      "cell_type": "code",
      "metadata": {
        "id": "V27x0fxNBdzY",
        "colab_type": "code",
        "colab": {}
      },
      "source": [
        "import numpy as np\n",
        "import matplotlib.pyplot as plt\n",
        "import time\n",
        "import copy\n",
        "import os\n",
        "import glob\n",
        "import pandas as pd\n",
        "import json \n",
        "import torch\n",
        "import torchvision.transforms as transforms\n",
        "import torchvision\n",
        "import torch.optim as optim\n",
        "import torch.nn as nn\n",
        "import torch.nn.functional as F\n",
        "import csv\n",
        "\n",
        "from google.colab import files\n",
        "from torchvision import datasets, models, transforms\n",
        "from torch.utils.data import TensorDataset, DataLoader\n",
        "from torch.utils.data import Dataset \n",
        "from torch.autograd import Variable\n",
        "from __future__ import print_function, division\n",
        "from sklearn.metrics import accuracy_score\n",
        "from sklearn.model_selection import StratifiedShuffleSplit\n",
        "from psutil import virtual_memory\n",
        "from livelossplot import PlotLosses\n",
        "from pycm import *\n",
        "from PIL import Image\n",
        "\n",
        "plt.ion()"
      ],
      "execution_count": 0,
      "outputs": []
    },
    {
      "cell_type": "code",
      "metadata": {
        "id": "cj2XzGqXhzcw",
        "colab_type": "code",
        "outputId": "aa27cefc-102f-4390-9a77-e4d36f9b4024",
        "colab": {
          "base_uri": "https://localhost:8080/",
          "height": 305
        }
      },
      "source": [
        "# To check the situation of the GPU\n",
        "gpu_info = !nvidia-smi\n",
        "gpu_info = '\\n'.join(gpu_info)\n",
        "if gpu_info.find('failed') >= 0:\n",
        "  print('Select the Runtime > \"Change runtime type\" menu to enable a GPU accelerator, ')\n",
        "  print('and then re-execute this cell.')\n",
        "else:\n",
        "  print(gpu_info)"
      ],
      "execution_count": 34,
      "outputs": [
        {
          "output_type": "stream",
          "text": [
            "Thu May 21 22:39:50 2020       \n",
            "+-----------------------------------------------------------------------------+\n",
            "| NVIDIA-SMI 440.82       Driver Version: 418.67       CUDA Version: 10.1     |\n",
            "|-------------------------------+----------------------+----------------------+\n",
            "| GPU  Name        Persistence-M| Bus-Id        Disp.A | Volatile Uncorr. ECC |\n",
            "| Fan  Temp  Perf  Pwr:Usage/Cap|         Memory-Usage | GPU-Util  Compute M. |\n",
            "|===============================+======================+======================|\n",
            "|   0  Tesla P100-PCIE...  Off  | 00000000:00:04.0 Off |                    0 |\n",
            "| N/A   38C    P0    31W / 250W |  16161MiB / 16280MiB |      0%      Default |\n",
            "+-------------------------------+----------------------+----------------------+\n",
            "                                                                               \n",
            "+-----------------------------------------------------------------------------+\n",
            "| Processes:                                                       GPU Memory |\n",
            "|  GPU       PID   Type   Process name                             Usage      |\n",
            "|=============================================================================|\n",
            "+-----------------------------------------------------------------------------+\n"
          ],
          "name": "stdout"
        }
      ]
    },
    {
      "cell_type": "code",
      "metadata": {
        "id": "1hCI-vmijQb1",
        "colab_type": "code",
        "outputId": "246ba116-4fc3-42b1-d5c7-967b5105df78",
        "colab": {
          "base_uri": "https://localhost:8080/",
          "height": 71
        }
      },
      "source": [
        "# To check the amount of the available RAM\n",
        "ram_gb = virtual_memory().total / 1e9\n",
        "print('Your runtime has {:.1f} gigabytes of available RAM\\n'.format(ram_gb))\n",
        "\n",
        "if ram_gb < 20:\n",
        "  print('To enable a high-RAM runtime, select the Runtime > \"Change runtime type\"')\n",
        "  print('menu, and then select High-RAM in the Runtime shape dropdown. Then, ')\n",
        "  print('re-execute this cell.')\n",
        "else:\n",
        "  print('You are using a high-RAM runtime!')"
      ],
      "execution_count": 35,
      "outputs": [
        {
          "output_type": "stream",
          "text": [
            "Your runtime has 27.4 gigabytes of available RAM\n",
            "\n",
            "You are using a high-RAM runtime!\n"
          ],
          "name": "stdout"
        }
      ]
    },
    {
      "cell_type": "code",
      "metadata": {
        "id": "G8vmsG5FLGtQ",
        "colab_type": "code",
        "colab": {
          "base_uri": "https://localhost:8080/",
          "height": 35
        },
        "outputId": "54a28a85-2479-46ad-fa2e-4521a18dd11d"
      },
      "source": [
        "# To check if the notebook is working on GPU\n",
        "device = torch.device(\"cuda:0\")\n",
        "if torch.cuda.device_count() > 0 and torch.cuda.is_available():\n",
        "    print(\"Cuda installed! Running on GPU!\")\n",
        "    device = 'cuda'\n",
        "else:\n",
        "    print(\"No GPU available!\")"
      ],
      "execution_count": 36,
      "outputs": [
        {
          "output_type": "stream",
          "text": [
            "Cuda installed! Running on GPU!\n"
          ],
          "name": "stdout"
        }
      ]
    },
    {
      "cell_type": "code",
      "metadata": {
        "id": "W6xJblarBkPY",
        "colab_type": "code",
        "colab": {}
      },
      "source": [
        "def set_seed(seed):\n",
        "    \"\"\"\n",
        "    Use this to set ALL the random seeds to a fixed value and take out any randomness from cuda kernels\n",
        "    \"\"\"\n",
        "    random.seed(seed)\n",
        "    np.random.seed(seed)\n",
        "    torch.manual_seed(seed)\n",
        "    torch.cuda.manual_seed_all(seed)\n",
        "\n",
        "    torch.backends.cudnn.benchmark = True  ##uses the inbuilt cudnn auto-tuner to find the fastest convolution algorithms. -\n",
        "    torch.backends.cudnn.enabled   = True\n",
        "\n",
        "    return True"
      ],
      "execution_count": 0,
      "outputs": []
    },
    {
      "cell_type": "markdown",
      "metadata": {
        "id": "Kbt4vuZWWpoP",
        "colab_type": "text"
      },
      "source": [
        "# 2. Training Data Pre-processing"
      ]
    },
    {
      "cell_type": "code",
      "metadata": {
        "id": "oXp_I0TkGYSQ",
        "colab_type": "code",
        "colab": {}
      },
      "source": [
        "# Load the data from the files\n",
        "with open(\"./mapping.json\",'r', encoding='UTF-8') as f:\n",
        "     load_dict = json.load(f)\n",
        "train_file = glob.glob('./train/*/images/*.JPEG')\n",
        "train_data = []\n",
        "labels = []\n",
        "count = 0\n",
        "\n",
        "for f in train_file:\n",
        "    img = np.array(Image.open(f))\n",
        "    label_name = f.split('/')[2]\n",
        "    label = load_dict.get(label_name)\n",
        "    if img.shape != (64,64,3):\n",
        "        img = np.stack((img,)*3, axis=-1)\n",
        "    \n",
        "    train_data.append(img)\n",
        "    labels.append(label)\n",
        "    count += 1\n",
        "\n",
        "# Convert the traindata and labels to nparray    \n",
        "train_data = np.array(train_data)\n",
        "labels = np.array(labels)"
      ],
      "execution_count": 0,
      "outputs": []
    },
    {
      "cell_type": "code",
      "metadata": {
        "id": "17Sv583eGYU8",
        "colab_type": "code",
        "outputId": "b6395ac5-615f-4ffa-b871-801dc5b72bf3",
        "colab": {
          "base_uri": "https://localhost:8080/",
          "height": 53
        }
      },
      "source": [
        "# Calculate the mean and std of the datdaset\n",
        "mean = train_data.mean(axis=(0,1,2))/255\n",
        "std = train_data.std(axis=(0,1,2))/255\n",
        "print(mean)\n",
        "print(std)"
      ],
      "execution_count": 40,
      "outputs": [
        {
          "output_type": "stream",
          "text": [
            "[0.48024579 0.44807218 0.39754775]\n",
            "[0.27698641 0.26906449 0.28208191]\n"
          ],
          "name": "stdout"
        }
      ]
    },
    {
      "cell_type": "code",
      "metadata": {
        "id": "CqA7Csgzahw6",
        "colab_type": "code",
        "outputId": "0ae1ddb9-2fed-4d6b-bbb2-843bbcc20909",
        "colab": {
          "base_uri": "https://localhost:8080/",
          "height": 53
        }
      },
      "source": [
        "# Create a 90-10 training and validation split\n",
        "shuffler = StratifiedShuffleSplit(n_splits=1, test_size=0.1, random_state=42).split(train_data, labels)\n",
        "indices = [(train_idx, validation_idx) for train_idx, validation_idx in shuffler][0]\n",
        "\n",
        "print(len(indices[0]))\n",
        "print(len(indices[1]))"
      ],
      "execution_count": 46,
      "outputs": [
        {
          "output_type": "stream",
          "text": [
            "90000\n",
            "10000\n"
          ],
          "name": "stdout"
        }
      ]
    },
    {
      "cell_type": "code",
      "metadata": {
        "id": "6mtDhUykGYbk",
        "colab_type": "code",
        "outputId": "14a626b1-9fb5-4ce5-f976-f14fbaf88773",
        "colab": {
          "base_uri": "https://localhost:8080/",
          "height": 71
        }
      },
      "source": [
        "# Instantiate the datasets\n",
        "X_train, y_train = torch.tensor(train_data[indices[0]]).float(), torch.tensor(labels)[indices[0]]\n",
        "X_val, y_val = torch.tensor(train_data[indices[1]]).float(), torch.tensor(labels)[indices[1]]\n",
        "\n",
        "# Reshape the dataset\n",
        "X_train = X_train.permute(0,3,1,2)\n",
        "X_val = X_val.permute(0,3,1,2)\n",
        "\n",
        "print(X_train.size())\n",
        "print(X_val.size())\n",
        "print(y_train.size())"
      ],
      "execution_count": 47,
      "outputs": [
        {
          "output_type": "stream",
          "text": [
            "torch.Size([90000, 3, 64, 64])\n",
            "torch.Size([10000, 3, 64, 64])\n",
            "torch.Size([90000])\n"
          ],
          "name": "stdout"
        }
      ]
    },
    {
      "cell_type": "markdown",
      "metadata": {
        "id": "k-bwHXXHW4-k",
        "colab_type": "text"
      },
      "source": [
        "# 3. Data augmentation"
      ]
    },
    {
      "cell_type": "code",
      "metadata": {
        "id": "HpMqAlDBGYdq",
        "colab_type": "code",
        "colab": {}
      },
      "source": [
        "# Define a custom datasets and transforms\n",
        "class CustomImageTensorDataset(Dataset):\n",
        "    def __init__(self, data, targets, transform=None):\n",
        "        \"\"\"\n",
        "        Args:\n",
        "            data (Tensor): A tensor containing the data e.g. images\n",
        "            targets (Tensor): A tensor containing all the labels\n",
        "            transform (callable, optional): Optional transform to be applied\n",
        "                on a sample.\n",
        "        \"\"\"\n",
        "        self.data = data\n",
        "        self.targets = targets\n",
        "        self.transform = transform\n",
        "\n",
        "    def __len__(self):\n",
        "        return len(self.data)\n",
        "\n",
        "    def __getitem__(self, idx):\n",
        "        sample, label = self.data[idx], self.targets[idx]\n",
        "        if self.transform:\n",
        "            sample = self.transform(sample)\n",
        "        return sample, label"
      ],
      "execution_count": 0,
      "outputs": []
    },
    {
      "cell_type": "code",
      "metadata": {
        "id": "87vpKtdVGYf4",
        "colab_type": "code",
        "colab": {}
      },
      "source": [
        "# Define the transform for Data-augmentation and instantiate two CustomImageTensorDatasets\n",
        "train_transform = torchvision.transforms.Compose([\n",
        "    transforms.ToPILImage(),\n",
        "    transforms.Resize((224,224)),\n",
        "    transforms.RandomRotation(10),\n",
        "    transforms.ToTensor(),\n",
        "    transforms.Normalize(mean, std)])\n",
        "\n",
        "valid_transform = torchvision.transforms.Compose([\n",
        "    transforms.ToPILImage(),\n",
        "    transforms.Resize((224,224)),\n",
        "    transforms.ToTensor(),\n",
        "    transforms.Normalize(mean, std)])\n",
        "\n",
        "train_set = CustomImageTensorDataset(X_train, y_train.long(), transform=train_transform)\n",
        "valid_set = CustomImageTensorDataset(X_val, y_val.long(), transform=valid_transform)"
      ],
      "execution_count": 0,
      "outputs": []
    },
    {
      "cell_type": "markdown",
      "metadata": {
        "id": "ZXvfFG2nXJdw",
        "colab_type": "text"
      },
      "source": [
        "# 4. Train, Validation and Evaluate Functions"
      ]
    },
    {
      "cell_type": "code",
      "metadata": {
        "id": "V6eLcSrKGYme",
        "colab_type": "code",
        "colab": {}
      },
      "source": [
        "# Define the train, validate and evaluate functions\n",
        "def train(model, optimizer, criterion, data_loader):\n",
        "    \"\"\"\n",
        "    Train a single epoch\n",
        "    \"\"\"\n",
        "    model.train() # the model is in the training mode so the parameters(weights)to be optimised will be updatad at each step\n",
        "    train_loss, train_accuracy = 0, 0\n",
        "    for X, y in data_loader:\n",
        "        X, y = X.to(device), y.to(device)\n",
        "        optimizer.zero_grad()\n",
        "        a2 = model(X.view(-1, 3, 224, 224))\n",
        "        loss = criterion(a2, y)\n",
        "        loss.backward()\n",
        "        train_loss += loss*X.size(0)\n",
        "        y_pred = F.log_softmax(a2, dim=1).max(1)[1]\n",
        "        train_accuracy += accuracy_score(y.cpu().numpy(), y_pred.detach().cpu().numpy())*X.size(0) ## .cpu cpoies the tensor to the cpu to evaluate the accuracy score since it is a scikitlearn metric which does not run on GPUs\n",
        "        optimizer.step()  \n",
        "        \n",
        "    return train_loss/len(data_loader.dataset), train_accuracy/len(data_loader.dataset)  ## loss and accuracy calculated give the total for all batches and must be divided by the number of batch size to give the average values.\n",
        "\n",
        "def validate(model, criterion, data_loader):\n",
        "    \"\"\"\n",
        "    Find the loss and accuracy of the current model parameters to the\n",
        "    validation data set\n",
        "    \"\"\"\n",
        "    model.eval() ## model is set to evaluation mode to freeze the parameters and ensure weights are not updated at each step so that the trained model is used to evaluate the validation loss\n",
        "    validation_loss, validation_accuracy = 0., 0.\n",
        "    for X, y in data_loader:\n",
        "        with torch.no_grad():\n",
        "            X, y = X.to(device), y.to(device)\n",
        "            a2 = model(X.view(-1, 3, 224, 224))\n",
        "            loss = criterion(a2, y)\n",
        "            validation_loss += loss*X.size(0)\n",
        "            y_pred = F.log_softmax(a2, dim=1).max(1)[1]\n",
        "            validation_accuracy += accuracy_score(y.cpu().numpy(), y_pred.cpu().numpy())*X.size(0)\n",
        "            \n",
        "    return validation_loss/len(data_loader.dataset), validation_accuracy/len(data_loader.dataset)\n",
        "\n",
        "def evaluate(model, data_loader):\n",
        "    \"\"\"\n",
        "    Find the prediction of the current model parameters with the test\n",
        "    data set and return both the predicted and actual labels\n",
        "    \"\"\"\n",
        "    model.eval()\n",
        "    ys, y_preds = [], []\n",
        "    for X, y in data_loader:\n",
        "        with torch.no_grad():\n",
        "            X, y = X.to(device), y.to(device)\n",
        "            a2 = model(X.view(-1, 3, 224, 224))\n",
        "            y_pred = F.log_softmax(a2, dim=1).max(1)[1]\n",
        "            ys.append(y.cpu().numpy())\n",
        "            y_preds.append(y_pred.cpu().numpy())\n",
        "            \n",
        "    return np.concatenate(y_preds, 0),  np.concatenate(ys, 0)"
      ],
      "execution_count": 0,
      "outputs": []
    },
    {
      "cell_type": "markdown",
      "metadata": {
        "id": "6DY5wCZGXRSa",
        "colab_type": "text"
      },
      "source": [
        "## 5. Perform the training of the network and validation"
      ]
    },
    {
      "cell_type": "code",
      "metadata": {
        "id": "PCzy2hPOTn8o",
        "colab_type": "code",
        "colab": {}
      },
      "source": [
        "# Set the hyperparameters\n",
        "seed = 42\n",
        "lr = 0.01\n",
        "momentum = 0.9\n",
        "batch_size = 64\n",
        "test_batch_size = 1000\n",
        "n_epochs = 10\n",
        "weight_decay = 2e-5"
      ],
      "execution_count": 0,
      "outputs": []
    },
    {
      "cell_type": "code",
      "metadata": {
        "id": "s2oZ2lsuG-r6",
        "colab_type": "code",
        "colab": {}
      },
      "source": [
        "def exp_lr_scheduler(optimizer, epoch, lr_decay=0.1, lr_decay_epoch=2):\n",
        "    \"\"\"\n",
        "    Decay learning rate by a factor of lr_decay every lr_decay_epoch epochs\n",
        "    \"\"\"\n",
        "    if epoch % lr_decay_epoch :\n",
        "        return optimizer\n",
        "    if epoch >= 6:\n",
        "        return optimizer\n",
        "    for param_group in optimizer.param_groups:\n",
        "        param_group['lr'] *= lr_decay\n",
        "    return optimizer\n",
        "\n",
        "def train_model(model, criterion, optimizer, num_epochs):\n",
        "    \"\"\"\n",
        "    Do a live plot of the training accuracy and loss as the model is trained\n",
        "    \"\"\"\n",
        "    train_loader = DataLoader(train_set, batch_size=batch_size, shuffle=True, num_workers=0)\n",
        "    valid_loader = DataLoader(valid_set, batch_size=test_batch_size, shuffle=False, num_workers=0)\n",
        "  \n",
        "    liveloss = PlotLosses()\n",
        "    for epoch in range(num_epochs):\n",
        "        optimizer = exp_lr_scheduler(optimizer, epoch)\n",
        "        logs = {}\n",
        "\n",
        "        train_loss, train_accuracy = train(model, optimizer, criterion, train_loader)\n",
        "        logs['' + 'log loss'] = train_loss.item()\n",
        "        logs['' + 'accuracy'] = train_accuracy.item()\n",
        "\n",
        "        validation_loss, validation_accuracy = validate(model, criterion, valid_loader)\n",
        "        logs['val_' + 'log loss'] = validation_loss.item()\n",
        "        logs['val_' + 'accuracy'] = validation_accuracy.item()\n",
        "\n",
        "        liveloss.update(logs)\n",
        "        liveloss.draw()\n",
        "\n",
        "    return model"
      ],
      "execution_count": 0,
      "outputs": []
    },
    {
      "cell_type": "code",
      "metadata": {
        "id": "csMaWIuEHHw1",
        "colab_type": "code",
        "colab": {}
      },
      "source": [
        "model_ft = models.resnet101(pretrained=True, progress=True)\n",
        " \n",
        "if torch.cuda.is_available():\n",
        "    model_ft = model_ft.cuda()\n",
        "\n",
        "criterion = nn.CrossEntropyLoss()\n",
        " \n",
        "# Observe that all parameters are being opt imized\n",
        "optimizer_ft = optim.SGD(model_ft.parameters(), lr=lr, momentum=momentum, weight_decay=weight_decay)"
      ],
      "execution_count": 0,
      "outputs": []
    },
    {
      "cell_type": "code",
      "metadata": {
        "id": "gQsnQ87rHHst",
        "colab_type": "code",
        "outputId": "52f8d002-c20d-4b2b-ad8f-f53a4c86d1d4",
        "colab": {
          "base_uri": "https://localhost:8080/",
          "height": 434
        }
      },
      "source": [
        "# Perform the training and plot the accuracy and loss changes\n",
        "model_ft = train_model(model_ft, criterion, optimizer_ft, num_epochs=n_epochs)"
      ],
      "execution_count": 55,
      "outputs": [
        {
          "output_type": "display_data",
          "data": {
            "image/png": "[encoded data removed]",
            "text/plain": [
              "<Figure size 864x576 with 2 Axes>"
            ]
          },
          "metadata": {
            "tags": [],
            "needs_background": "light"
          }
        },
        {
          "output_type": "stream",
          "text": [
            "accuracy\n",
            "\ttraining         \t (min:    0.109, max:    0.775, cur:    0.775)\n",
            "\tvalidation       \t (min:    0.285, max:    0.670, cur:    0.670)\n",
            "log loss\n",
            "\ttraining         \t (min:    0.907, max:    4.650, cur:    0.907)\n",
            "\tvalidation       \t (min:    1.329, max:    3.481, cur:    1.329)\n"
          ],
          "name": "stdout"
        }
      ]
    },
    {
      "cell_type": "code",
      "metadata": {
        "id": "4WSb7dSpp1bX",
        "colab_type": "code",
        "colab": {}
      },
      "source": [
        "# Save the trained model\n",
        "path = F\"/content/gdrive/My Drive/models/Classifier.pth\" \n",
        "torch.save(model_ft.state_dict(), path)"
      ],
      "execution_count": 0,
      "outputs": []
    },
    {
      "cell_type": "markdown",
      "metadata": {
        "id": "AX2FWRoMT5nY",
        "colab_type": "text"
      },
      "source": [
        "#6. Test the trained model on the test set"
      ]
    },
    {
      "cell_type": "code",
      "metadata": {
        "id": "4tayTKsKT4g0",
        "colab_type": "code",
        "outputId": "79a2507d-214a-42df-de97-89ccc588c1d2",
        "colab": {
          "base_uri": "https://localhost:8080/",
          "height": 53
        }
      },
      "source": [
        "# Load the \n",
        "data_path='./test/'\n",
        "\n",
        "test_transform = torchvision.transforms.Compose([\n",
        "            transforms.ToTensor(),\n",
        "            transforms.Normalize(mean, std)])\n",
        "\n",
        "test_dataset = torchvision.datasets.ImageFolder(\n",
        "        root=data_path,\n",
        "        transform=test_transform)\n",
        "\n",
        "test_file = glob.glob('test/images/*.JPEG')\n",
        "print(len(test_file))\n",
        "test_data = []\n",
        "test_names = []\n",
        "\n",
        "for f in test_file:\n",
        "    img = np.asarray(Image.open(f))\n",
        "    test_name = f.split('/')[2][5:-5]\n",
        "    #label = load_dict.get(label_name)\n",
        "    if img.shape != (64,64,3):\n",
        "        img = np.stack((img,)*3, axis=-1)\n",
        "\n",
        "    test_data.append(img)\n",
        "    test_names.append(int(test_name))\n",
        "\n",
        "print(test_names[:5])\n",
        "\n",
        "y_test = np.array(test_names) # y_test is only used for generating dataset. it's not the real labels\n",
        "y_test = torch.tensor(y_test)\n",
        " \n",
        "X_test = np.array(test_data)\n",
        "X_test = torch.tensor(X_test).float()\n",
        "X_test = X_test.permute(0,3,1,2)\n",
        " \n",
        "test_set = CustomImageTensorDataset(X_test, y_test.long(), transform=valid_transform)\n",
        "\n",
        "test_loader = torch.utils.data.DataLoader(\n",
        "        test_set,\n",
        "        batch_size=1000,\n",
        "        num_workers=0,\n",
        "        shuffle=False\n",
        ")"
      ],
      "execution_count": 34,
      "outputs": [
        {
          "output_type": "stream",
          "text": [
            "10000\n",
            "[2188, 5321, 3946, 2657, 9941]\n"
          ],
          "name": "stdout"
        }
      ]
    },
    {
      "cell_type": "code",
      "metadata": {
        "id": "7MZcDQl_uWFB",
        "colab_type": "code",
        "outputId": "5e9bc841-baa1-4f04-993c-ef34fcadb351",
        "colab": {
          "base_uri": "https://localhost:8080/",
          "height": 35
        }
      },
      "source": [
        "# Perform the evaluation\n",
        "y_pred, y_gt = evaluate(model_ft, test_loader)\n",
        "y_pred[:5], y_gt[:5]"
      ],
      "execution_count": 35,
      "outputs": [
        {
          "output_type": "execute_result",
          "data": {
            "text/plain": [
              "(array([133,  50, 179, 193, 133]), array([2188, 5321, 3946, 2657, 9941]))"
            ]
          },
          "metadata": {
            "tags": []
          },
          "execution_count": 35
        }
      ]
    },
    {
      "cell_type": "markdown",
      "metadata": {
        "id": "eNRrr3AHYdE9",
        "colab_type": "text"
      },
      "source": [
        "# 7. Post-processing for the prediction result"
      ]
    },
    {
      "cell_type": "code",
      "metadata": {
        "id": "bC4LMzS-uYQC",
        "colab_type": "code",
        "colab": {}
      },
      "source": [
        "res = {}\n",
        "for i in range(10000):\n",
        "    res[\"test_\" + str(y_gt[i]) + \".jpeg\"] = y_pred[i]\n",
        "\n",
        "with open('/content/gdrive/My Drive/Logistic/prediction.csv', 'w', newline='') as file:\n",
        "    writer = csv.writer(file)\n",
        "    writer.writerow([\"Filename\", \"Label\"])\n",
        "    for key, item in res.items():\n",
        "        writer.writerow([key, item])\n",
        "\n",
        "# Download the prediction result        \n",
        "files.download('/content/gdrive/My Drive/Logistic/prediction.csv')"
      ],
      "execution_count": 0,
      "outputs": []
    }
  ]
}