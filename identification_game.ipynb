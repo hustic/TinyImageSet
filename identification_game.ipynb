{
  "nbformat": 4,
  "nbformat_minor": 0,
  "metadata": {
    "kernelspec": {
      "display_name": "Python 3",
      "language": "python",
      "name": "python3"
    },
    "language_info": {
      "codemirror_mode": {
        "name": "ipython",
        "version": 3
      },
      "file_extension": ".py",
      "mimetype": "text/x-python",
      "name": "python",
      "nbconvert_exporter": "python",
      "pygments_lexer": "ipython3",
      "version": "3.6.10"
    },
    "colab": {
      "name": "identification_game.ipynb",
      "provenance": [],
      "collapsed_sections": [
        "G88ikEU5wWTA",
        "hM0kQ9J7wWTB",
        "r9NzUGB5YybE",
        "-yLOO_3wY4EO",
        "Q-XRrRFqwWTW",
        "XYIWQiGJwWTl",
        "hOvD53oSF1cU"
      ],
      "machine_shape": "hm"
    },
    "accelerator": "GPU",
    "widgets": {
      "application/vnd.jupyter.widget-state+json": {
        "be31cb91fe62483dae29dad098431194": {
          "model_module": "@jupyter-widgets/controls",
          "model_name": "HBoxModel",
          "state": {
            "_view_name": "HBoxView",
            "_dom_classes": [],
            "_model_name": "HBoxModel",
            "_view_module": "@jupyter-widgets/controls",
            "_model_module_version": "1.5.0",
            "_view_count": null,
            "_view_module_version": "1.5.0",
            "box_style": "",
            "layout": "IPY_MODEL_fa858f43e42c4ff4948a4baab335c7d2",
            "_model_module": "@jupyter-widgets/controls",
            "children": [
              "IPY_MODEL_5bfab60fd5fb4e32a0af8bf26808acc1",
              "IPY_MODEL_d6ee09de617141c78cc33fc2d983e1af"
            ]
          }
        },
        "fa858f43e42c4ff4948a4baab335c7d2": {
          "model_module": "@jupyter-widgets/base",
          "model_name": "LayoutModel",
          "state": {
            "_view_name": "LayoutView",
            "grid_template_rows": null,
            "right": null,
            "justify_content": null,
            "_view_module": "@jupyter-widgets/base",
            "overflow": null,
            "_model_module_version": "1.2.0",
            "_view_count": null,
            "flex_flow": null,
            "width": null,
            "min_width": null,
            "border": null,
            "align_items": null,
            "bottom": null,
            "_model_module": "@jupyter-widgets/base",
            "top": null,
            "grid_column": null,
            "overflow_y": null,
            "overflow_x": null,
            "grid_auto_flow": null,
            "grid_area": null,
            "grid_template_columns": null,
            "flex": null,
            "_model_name": "LayoutModel",
            "justify_items": null,
            "grid_row": null,
            "max_height": null,
            "align_content": null,
            "visibility": null,
            "align_self": null,
            "height": null,
            "min_height": null,
            "padding": null,
            "grid_auto_rows": null,
            "grid_gap": null,
            "max_width": null,
            "order": null,
            "_view_module_version": "1.2.0",
            "grid_template_areas": null,
            "object_position": null,
            "object_fit": null,
            "grid_auto_columns": null,
            "margin": null,
            "display": null,
            "left": null
          }
        },
        "5bfab60fd5fb4e32a0af8bf26808acc1": {
          "model_module": "@jupyter-widgets/controls",
          "model_name": "FloatProgressModel",
          "state": {
            "_view_name": "ProgressView",
            "style": "IPY_MODEL_0699bd7da7594a9e9a52c961d502607d",
            "_dom_classes": [],
            "description": "100%",
            "_model_name": "FloatProgressModel",
            "bar_style": "success",
            "max": 254695146,
            "_view_module": "@jupyter-widgets/controls",
            "_model_module_version": "1.5.0",
            "value": 254695146,
            "_view_count": null,
            "_view_module_version": "1.5.0",
            "orientation": "horizontal",
            "min": 0,
            "description_tooltip": null,
            "_model_module": "@jupyter-widgets/controls",
            "layout": "IPY_MODEL_e633f5f792a34bab910d6ba8971e7b72"
          }
        },
        "d6ee09de617141c78cc33fc2d983e1af": {
          "model_module": "@jupyter-widgets/controls",
          "model_name": "HTMLModel",
          "state": {
            "_view_name": "HTMLView",
            "style": "IPY_MODEL_d9f2169e998a48aba18beecc7e0ca0c2",
            "_dom_classes": [],
            "description": "",
            "_model_name": "HTMLModel",
            "placeholder": "​",
            "_view_module": "@jupyter-widgets/controls",
            "_model_module_version": "1.5.0",
            "value": " 243M/243M [00:04&lt;00:00, 51.0MB/s]",
            "_view_count": null,
            "_view_module_version": "1.5.0",
            "description_tooltip": null,
            "_model_module": "@jupyter-widgets/controls",
            "layout": "IPY_MODEL_953ca656d69f45e8baed0ab254dd9976"
          }
        },
        "0699bd7da7594a9e9a52c961d502607d": {
          "model_module": "@jupyter-widgets/controls",
          "model_name": "ProgressStyleModel",
          "state": {
            "_view_name": "StyleView",
            "_model_name": "ProgressStyleModel",
            "description_width": "initial",
            "_view_module": "@jupyter-widgets/base",
            "_model_module_version": "1.5.0",
            "_view_count": null,
            "_view_module_version": "1.2.0",
            "bar_color": null,
            "_model_module": "@jupyter-widgets/controls"
          }
        },
        "e633f5f792a34bab910d6ba8971e7b72": {
          "model_module": "@jupyter-widgets/base",
          "model_name": "LayoutModel",
          "state": {
            "_view_name": "LayoutView",
            "grid_template_rows": null,
            "right": null,
            "justify_content": null,
            "_view_module": "@jupyter-widgets/base",
            "overflow": null,
            "_model_module_version": "1.2.0",
            "_view_count": null,
            "flex_flow": null,
            "width": null,
            "min_width": null,
            "border": null,
            "align_items": null,
            "bottom": null,
            "_model_module": "@jupyter-widgets/base",
            "top": null,
            "grid_column": null,
            "overflow_y": null,
            "overflow_x": null,
            "grid_auto_flow": null,
            "grid_area": null,
            "grid_template_columns": null,
            "flex": null,
            "_model_name": "LayoutModel",
            "justify_items": null,
            "grid_row": null,
            "max_height": null,
            "align_content": null,
            "visibility": null,
            "align_self": null,
            "height": null,
            "min_height": null,
            "padding": null,
            "grid_auto_rows": null,
            "grid_gap": null,
            "max_width": null,
            "order": null,
            "_view_module_version": "1.2.0",
            "grid_template_areas": null,
            "object_position": null,
            "object_fit": null,
            "grid_auto_columns": null,
            "margin": null,
            "display": null,
            "left": null
          }
        },
        "d9f2169e998a48aba18beecc7e0ca0c2": {
          "model_module": "@jupyter-widgets/controls",
          "model_name": "DescriptionStyleModel",
          "state": {
            "_view_name": "StyleView",
            "_model_name": "DescriptionStyleModel",
            "description_width": "",
            "_view_module": "@jupyter-widgets/base",
            "_model_module_version": "1.5.0",
            "_view_count": null,
            "_view_module_version": "1.2.0",
            "_model_module": "@jupyter-widgets/controls"
          }
        },
        "953ca656d69f45e8baed0ab254dd9976": {
          "model_module": "@jupyter-widgets/base",
          "model_name": "LayoutModel",
          "state": {
            "_view_name": "LayoutView",
            "grid_template_rows": null,
            "right": null,
            "justify_content": null,
            "_view_module": "@jupyter-widgets/base",
            "overflow": null,
            "_model_module_version": "1.2.0",
            "_view_count": null,
            "flex_flow": null,
            "width": null,
            "min_width": null,
            "border": null,
            "align_items": null,
            "bottom": null,
            "_model_module": "@jupyter-widgets/base",
            "top": null,
            "grid_column": null,
            "overflow_y": null,
            "overflow_x": null,
            "grid_auto_flow": null,
            "grid_area": null,
            "grid_template_columns": null,
            "flex": null,
            "_model_name": "LayoutModel",
            "justify_items": null,
            "grid_row": null,
            "max_height": null,
            "align_content": null,
            "visibility": null,
            "align_self": null,
            "height": null,
            "min_height": null,
            "padding": null,
            "grid_auto_rows": null,
            "grid_gap": null,
            "max_width": null,
            "order": null,
            "_view_module_version": "1.2.0",
            "grid_template_areas": null,
            "object_position": null,
            "object_fit": null,
            "grid_auto_columns": null,
            "margin": null,
            "display": null,
            "left": null
          }
        }
      }
    }
  },
  "cells": [
    {
      "cell_type": "markdown",
      "metadata": {
        "id": "Vy4iu2XmXrOP",
        "colab_type": "text"
      },
      "source": [
        "### 1. Preparation"
      ]
    },
    {
      "cell_type": "code",
      "metadata": {
        "id": "75PEwYGtwz96",
        "colab_type": "code",
        "outputId": "17abe114-9690-41ea-d12f-d5063ff93004",
        "colab": {
          "base_uri": "https://localhost:8080/",
          "height": 34
        }
      },
      "source": [
        "from google.colab import drive\n",
        "drive.mount('/content/drive')"
      ],
      "execution_count": 0,
      "outputs": [
        {
          "output_type": "stream",
          "text": [
            "Drive already mounted at /content/drive; to attempt to forcibly remount, call drive.mount(\"/content/drive\", force_remount=True).\n"
          ],
          "name": "stdout"
        }
      ]
    },
    {
      "cell_type": "code",
      "metadata": {
        "id": "JYLDwGeLwWSo",
        "colab_type": "code",
        "outputId": "a47d0222-288f-4484-a80e-04ca997a291e",
        "colab": {
          "base_uri": "https://localhost:8080/",
          "height": 836
        }
      },
      "source": [
        "#unzip the zip file to link it with this program\n",
        "!sudo apt-get update\n",
        "!sudo apt-get install wget\n",
        "!wget --load-cookies /tmp/cookies.txt \"https://docs.google.com/uc?export=download&confirm=$(wget --quiet --save-cookies /tmp/cookies.txt --keep-session-cookies --no-check-certificate 'https://docs.google.com/uc?export=download&id=1AL0Rh5mjPgQH3pKrWqJlxVcbuAgXbON7' -O- | sed -rn 's/.*confirm=([0-9A-Za-z_]+).*/\\1\\n/p')&id=1AL0Rh5mjPgQH3pKrWqJlxVcbuAgXbON7\" -O data.zip && rm -rf /tmp/cookies.txt\n",
        "from zipfile import ZipFile\n",
        "with ZipFile('./drive/My Drive/acse-miniproject.zip', 'r') as zipObj:\n",
        "    print(\"Started unzipping... \\n\")\n",
        "    # Extract all the contents of zip file in current directory\n",
        "    zipObj.extractall()\n",
        "    print(\"Files unziped sucessfully\\n\")\n",
        "!ls"
      ],
      "execution_count": 0,
      "outputs": [
        {
          "output_type": "stream",
          "text": [
            "\r0% [Working]\r            \rIgn:1 https://developer.download.nvidia.com/compute/cuda/repos/ubuntu1804/x86_64  InRelease\n",
            "\r0% [Waiting for headers] [Waiting for headers] [Connecting to cloud.r-project.o\r                                                                               \rIgn:2 https://developer.download.nvidia.com/compute/machine-learning/repos/ubuntu1804/x86_64  InRelease\n",
            "\r0% [Waiting for headers] [Waiting for headers] [Connecting to cloud.r-project.o\r                                                                               \rHit:3 https://developer.download.nvidia.com/compute/cuda/repos/ubuntu1804/x86_64  Release\n",
            "\r0% [Waiting for headers] [Waiting for headers] [Connecting to cloud.r-project.o\r0% [Release.gpg gpgv 564 B] [Waiting for headers] [Waiting for headers] [Connec\r                                                                               \rHit:4 https://developer.download.nvidia.com/compute/machine-learning/repos/ubuntu1804/x86_64  Release\n",
            "\r0% [Release.gpg gpgv 564 B] [Waiting for headers] [Waiting for headers] [Connec\r                                                                               \rHit:5 http://archive.ubuntu.com/ubuntu bionic InRelease\n",
            "\r0% [Release.gpg gpgv 564 B] [Waiting for headers] [Connecting to cloud.r-projec\r                                                                               \rGet:6 http://security.ubuntu.com/ubuntu bionic-security InRelease [88.7 kB]\n",
            "\r0% [Release.gpg gpgv 564 B] [Waiting for headers] [6 InRelease 2,587 B/88.7 kB \r                                                                               \rHit:7 http://ppa.launchpad.net/graphics-drivers/ppa/ubuntu bionic InRelease\n",
            "\r0% [Release.gpg gpgv 564 B] [Waiting for headers] [6 InRelease 2,587 B/88.7 kB \r0% [Waiting for headers] [6 InRelease 14.2 kB/88.7 kB 16%] [Connecting to cloud\r0% [Release.gpg gpgv 564 B] [Waiting for headers] [6 InRelease 14.2 kB/88.7 kB \r                                                                               \rGet:9 http://archive.ubuntu.com/ubuntu bionic-updates InRelease [88.7 kB]\n",
            "\r0% [Release.gpg gpgv 564 B] [9 InRelease 2,604 B/88.7 kB 3%] [6 InRelease 14.2 \r                                                                               \rHit:10 https://cloud.r-project.org/bin/linux/ubuntu bionic-cran35/ InRelease\n",
            "\r0% [Release.gpg gpgv 564 B] [9 InRelease 15.6 kB/88.7 kB 18%] [6 InRelease 28.7\r0% [9 InRelease 15.6 kB/88.7 kB 18%] [6 InRelease 31.5 kB/88.7 kB 36%] [Waiting\r0% [5 InRelease gpgv 242 kB] [9 InRelease 15.6 kB/88.7 kB 18%] [6 InRelease 31.\r                                                                               \rHit:12 http://ppa.launchpad.net/marutter/c2d4u3.5/ubuntu bionic InRelease\n",
            "Get:13 http://archive.ubuntu.com/ubuntu bionic-backports InRelease [74.6 kB]\n",
            "Fetched 252 kB in 1s (267 kB/s)\n",
            "Reading package lists... Done\n",
            "Reading package lists... Done\n",
            "Building dependency tree       \n",
            "Reading state information... Done\n",
            "wget is already the newest version (1.19.4-1ubuntu2.2).\n",
            "0 upgraded, 0 newly installed, 0 to remove and 52 not upgraded.\n",
            "--2020-05-22 07:15:24--  https://docs.google.com/uc?export=download&confirm=P4j9&id=1AL0Rh5mjPgQH3pKrWqJlxVcbuAgXbON7\n",
            "Resolving docs.google.com (docs.google.com)... 172.217.219.139, 172.217.219.138, 172.217.219.100, ...\n",
            "Connecting to docs.google.com (docs.google.com)|172.217.219.139|:443... connected.\n",
            "HTTP request sent, awaiting response... 302 Moved Temporarily\n",
            "Location: https://doc-0k-0s-docs.googleusercontent.com/docs/securesc/jvpd5ohtfm87f20epnlekndid2993muc/tq6jnabbhdmqhl0ak5u9s7cn2gjo6v4b/1590131700000/11747609020053411276/12553605415536883877Z/1AL0Rh5mjPgQH3pKrWqJlxVcbuAgXbON7?e=download [following]\n",
            "--2020-05-22 07:15:24--  https://doc-0k-0s-docs.googleusercontent.com/docs/securesc/jvpd5ohtfm87f20epnlekndid2993muc/tq6jnabbhdmqhl0ak5u9s7cn2gjo6v4b/1590131700000/11747609020053411276/12553605415536883877Z/1AL0Rh5mjPgQH3pKrWqJlxVcbuAgXbON7?e=download\n",
            "Resolving doc-0k-0s-docs.googleusercontent.com (doc-0k-0s-docs.googleusercontent.com)... 172.217.212.132, 2607:f8b0:4001:c03::84\n",
            "Connecting to doc-0k-0s-docs.googleusercontent.com (doc-0k-0s-docs.googleusercontent.com)|172.217.212.132|:443... connected.\n",
            "HTTP request sent, awaiting response... 302 Found\n",
            "Location: https://docs.google.com/nonceSigner?nonce=dphq06ic28dnc&continue=https://doc-0k-0s-docs.googleusercontent.com/docs/securesc/jvpd5ohtfm87f20epnlekndid2993muc/tq6jnabbhdmqhl0ak5u9s7cn2gjo6v4b/1590131700000/11747609020053411276/12553605415536883877Z/1AL0Rh5mjPgQH3pKrWqJlxVcbuAgXbON7?e%3Ddownload&hash=38e5r82efjbamj2hvn2g7jc57pgj1qgh [following]\n",
            "--2020-05-22 07:15:24--  https://docs.google.com/nonceSigner?nonce=dphq06ic28dnc&continue=https://doc-0k-0s-docs.googleusercontent.com/docs/securesc/jvpd5ohtfm87f20epnlekndid2993muc/tq6jnabbhdmqhl0ak5u9s7cn2gjo6v4b/1590131700000/11747609020053411276/12553605415536883877Z/1AL0Rh5mjPgQH3pKrWqJlxVcbuAgXbON7?e%3Ddownload&hash=38e5r82efjbamj2hvn2g7jc57pgj1qgh\n",
            "Connecting to docs.google.com (docs.google.com)|172.217.219.139|:443... connected.\n",
            "HTTP request sent, awaiting response... 302 Found\n",
            "Location: https://doc-0k-0s-docs.googleusercontent.com/docs/securesc/jvpd5ohtfm87f20epnlekndid2993muc/tq6jnabbhdmqhl0ak5u9s7cn2gjo6v4b/1590131700000/11747609020053411276/12553605415536883877Z/1AL0Rh5mjPgQH3pKrWqJlxVcbuAgXbON7?e=download&nonce=dphq06ic28dnc&user=12553605415536883877Z&hash=nd5ej7mukc8vto90lrvf64115mbe2n9t [following]\n",
            "--2020-05-22 07:15:24--  https://doc-0k-0s-docs.googleusercontent.com/docs/securesc/jvpd5ohtfm87f20epnlekndid2993muc/tq6jnabbhdmqhl0ak5u9s7cn2gjo6v4b/1590131700000/11747609020053411276/12553605415536883877Z/1AL0Rh5mjPgQH3pKrWqJlxVcbuAgXbON7?e=download&nonce=dphq06ic28dnc&user=12553605415536883877Z&hash=nd5ej7mukc8vto90lrvf64115mbe2n9t\n",
            "Connecting to doc-0k-0s-docs.googleusercontent.com (doc-0k-0s-docs.googleusercontent.com)|172.217.212.132|:443... connected.\n",
            "HTTP request sent, awaiting response... 200 OK\n",
            "Length: unspecified [application/zip]\n",
            "Saving to: ‘data.zip’\n",
            "\n",
            "data.zip                [                 <=>] 256.54M  43.1MB/s    in 5.9s    \n",
            "\n",
            "2020-05-22 07:15:30 (43.8 MB/s) - ‘data.zip’ saved [269003169]\n",
            "\n",
            "Started unzipping... \n",
            "\n",
            "Files unziped sucessfully\n",
            "\n",
            "data.zip  drive  mapping.json  mapping.py  sample_data\ttest  train\n"
          ],
          "name": "stdout"
        }
      ]
    },
    {
      "cell_type": "code",
      "metadata": {
        "id": "XDhPxP7FwWSu",
        "colab_type": "code",
        "outputId": "732d7adb-2c90-47a8-f31a-cee6e05f99bf",
        "colab": {
          "base_uri": "https://localhost:8080/",
          "height": 428
        }
      },
      "source": [
        "#livelossplot setup\n",
        "!pip install pycm livelossplot\n",
        "%pylab inline"
      ],
      "execution_count": 0,
      "outputs": [
        {
          "output_type": "stream",
          "text": [
            "Requirement already satisfied: pycm in /usr/local/lib/python3.6/dist-packages (2.7)\n",
            "Requirement already satisfied: livelossplot in /usr/local/lib/python3.6/dist-packages (0.5.0)\n",
            "Requirement already satisfied: numpy>=1.9.0 in /usr/local/lib/python3.6/dist-packages (from pycm) (1.18.4)\n",
            "Requirement already satisfied: art>=1.8 in /usr/local/lib/python3.6/dist-packages (from pycm) (4.7)\n",
            "Requirement already satisfied: ipython in /usr/local/lib/python3.6/dist-packages (from livelossplot) (5.5.0)\n",
            "Requirement already satisfied: matplotlib; python_version >= \"3.6\" in /usr/local/lib/python3.6/dist-packages (from livelossplot) (3.2.1)\n",
            "Requirement already satisfied: setuptools>=18.5 in /usr/local/lib/python3.6/dist-packages (from ipython->livelossplot) (46.3.0)\n",
            "Requirement already satisfied: pexpect; sys_platform != \"win32\" in /usr/local/lib/python3.6/dist-packages (from ipython->livelossplot) (4.8.0)\n",
            "Requirement already satisfied: pickleshare in /usr/local/lib/python3.6/dist-packages (from ipython->livelossplot) (0.7.5)\n",
            "Requirement already satisfied: prompt-toolkit<2.0.0,>=1.0.4 in /usr/local/lib/python3.6/dist-packages (from ipython->livelossplot) (1.0.18)\n",
            "Requirement already satisfied: decorator in /usr/local/lib/python3.6/dist-packages (from ipython->livelossplot) (4.4.2)\n",
            "Requirement already satisfied: pygments in /usr/local/lib/python3.6/dist-packages (from ipython->livelossplot) (2.1.3)\n",
            "Requirement already satisfied: traitlets>=4.2 in /usr/local/lib/python3.6/dist-packages (from ipython->livelossplot) (4.3.3)\n",
            "Requirement already satisfied: simplegeneric>0.8 in /usr/local/lib/python3.6/dist-packages (from ipython->livelossplot) (0.8.1)\n",
            "Requirement already satisfied: pyparsing!=2.0.4,!=2.1.2,!=2.1.6,>=2.0.1 in /usr/local/lib/python3.6/dist-packages (from matplotlib; python_version >= \"3.6\"->livelossplot) (2.4.7)\n",
            "Requirement already satisfied: cycler>=0.10 in /usr/local/lib/python3.6/dist-packages (from matplotlib; python_version >= \"3.6\"->livelossplot) (0.10.0)\n",
            "Requirement already satisfied: kiwisolver>=1.0.1 in /usr/local/lib/python3.6/dist-packages (from matplotlib; python_version >= \"3.6\"->livelossplot) (1.2.0)\n",
            "Requirement already satisfied: python-dateutil>=2.1 in /usr/local/lib/python3.6/dist-packages (from matplotlib; python_version >= \"3.6\"->livelossplot) (2.8.1)\n",
            "Requirement already satisfied: ptyprocess>=0.5 in /usr/local/lib/python3.6/dist-packages (from pexpect; sys_platform != \"win32\"->ipython->livelossplot) (0.6.0)\n",
            "Requirement already satisfied: wcwidth in /usr/local/lib/python3.6/dist-packages (from prompt-toolkit<2.0.0,>=1.0.4->ipython->livelossplot) (0.1.9)\n",
            "Requirement already satisfied: six>=1.9.0 in /usr/local/lib/python3.6/dist-packages (from prompt-toolkit<2.0.0,>=1.0.4->ipython->livelossplot) (1.12.0)\n",
            "Requirement already satisfied: ipython-genutils in /usr/local/lib/python3.6/dist-packages (from traitlets>=4.2->ipython->livelossplot) (0.2.0)\n",
            "Populating the interactive namespace from numpy and matplotlib\n"
          ],
          "name": "stdout"
        }
      ]
    },
    {
      "cell_type": "code",
      "metadata": {
        "id": "__lkc8qTwWSy",
        "colab_type": "code",
        "outputId": "ad112a7e-2861-4740-9251-0a24aaa31f84",
        "colab": {
          "base_uri": "https://localhost:8080/",
          "height": 34
        }
      },
      "source": [
        "# imports\n",
        "# random seed set function\n",
        "# check device\n",
        "# function to apply transforms -- CustomImageTensorDataset\n",
        "from sklearn.metrics import accuracy_score\n",
        "from sklearn.model_selection import StratifiedShuffleSplit\n",
        "\n",
        "from livelossplot import PlotLosses\n",
        "from pycm import *\n",
        "\n",
        "import torch\n",
        "import torch.nn as nn\n",
        "import torch.nn.functional as F\n",
        "from torch.utils.data import Dataset, TensorDataset, DataLoader\n",
        "import torchvision\n",
        "import torchvision.transforms as transforms\n",
        "\n",
        "import torchvision.models as models\n",
        "import torch.optim as optim\n",
        "\n",
        "import glob\n",
        "from PIL import Image\n",
        "import numpy as np\n",
        "import pandas as pd\n",
        "import json \n",
        "\n",
        "def set_seed(seed):\n",
        "    \"\"\"\n",
        "    Use this to set ALL the random seeds to a fixed value and take out any randomness from cuda kernels\n",
        "    \"\"\"\n",
        "    # random.seed(seed)\n",
        "    np.random.seed(seed)\n",
        "    torch.manual_seed(seed)\n",
        "    torch.cuda.manual_seed_all(seed)\n",
        "\n",
        "    torch.backends.cudnn.benchmark = True  \n",
        "    torch.backends.cudnn.enabled   = True\n",
        "\n",
        "    return True\n",
        "\n",
        "device = 'cpu'\n",
        "if torch.cuda.device_count() > 0 and torch.cuda.is_available():\n",
        "    print(\"Cuda installed! Running on GPU!\")\n",
        "    device = 'cuda'\n",
        "else:\n",
        "    print(\"No GPU available!\")\n",
        "    \n",
        "    \n",
        "\n",
        "class CustomImageTensorDataset(Dataset):\n",
        "    def __init__(self, data, targets, transform=None):\n",
        "        \"\"\"\n",
        "        Args:\n",
        "            data (Tensor): A tensor containing the data e.g. images\n",
        "            targets (Tensor): A tensor containing all the labels\n",
        "            transform (callable, optional): Optional transform to be applied\n",
        "                on a sample.\n",
        "        \"\"\"\n",
        "        self.data = data\n",
        "        self.targets = targets\n",
        "        self.transform = transform\n",
        "\n",
        "    def __len__(self):\n",
        "        return len(self.data)\n",
        "\n",
        "    def __getitem__(self, idx):\n",
        "        sample, label = self.data[idx], self.targets[idx]\n",
        "        #sample = sample.view(3, 64, 63).float()/255.\n",
        "        if self.transform:\n",
        "            sample = self.transform(sample)\n",
        "\n",
        "\n",
        "        return sample, label"
      ],
      "execution_count": 0,
      "outputs": [
        {
          "output_type": "stream",
          "text": [
            "Cuda installed! Running on GPU!\n"
          ],
          "name": "stdout"
        }
      ]
    },
    {
      "cell_type": "code",
      "metadata": {
        "id": "HWmaavK58hsm",
        "colab_type": "code",
        "colab": {}
      },
      "source": [
        "# To check the situation of the GPU\n",
        "gpu_info = !nvidia-smi\n",
        "gpu_info = '\\n'.join(gpu_info)\n",
        "if gpu_info.find('failed') >= 0:\n",
        "  print('Select the Runtime > \"Change runtime type\" menu to enable a GPU accelerator, ')\n",
        "  print('and then re-execute this cell.')\n",
        "else:\n",
        "  print(gpu_info)"
      ],
      "execution_count": 0,
      "outputs": []
    },
    {
      "cell_type": "code",
      "metadata": {
        "id": "zhlCfZ_Q8dDx",
        "colab_type": "code",
        "colab": {}
      },
      "source": [
        "# To check the amount of the available RAM\n",
        "ram_gb = virtual_memory().total / 1e9\n",
        "print('Your runtime has {:.1f} gigabytes of available RAM\\n'.format(ram_gb))\n",
        "\n",
        "if ram_gb < 20:\n",
        "  print('To enable a high-RAM runtime, select the Runtime > \"Change runtime type\"')\n",
        "  print('menu, and then select High-RAM in the Runtime shape dropdown. Then, ')\n",
        "  print('re-execute this cell.')\n",
        "else:\n",
        "  print('You are using a high-RAM runtime!')"
      ],
      "execution_count": 0,
      "outputs": []
    },
    {
      "cell_type": "markdown",
      "metadata": {
        "id": "j0zF0FdJwWS2",
        "colab_type": "text"
      },
      "source": [
        "### 2. Path sign, Model select and Other Hyperparameters"
      ]
    },
    {
      "cell_type": "code",
      "metadata": {
        "id": "a34Zjayf-ySf",
        "colab_type": "code",
        "colab": {}
      },
      "source": [
        "# path of output .pth and .csv\n",
        "save_path = \"/content/drive/My Drive/\""
      ],
      "execution_count": 0,
      "outputs": []
    },
    {
      "cell_type": "code",
      "metadata": {
        "id": "AMLOaM59wWS7",
        "colab_type": "code",
        "colab": {}
      },
      "source": [
        "#  resnet101 > wideresnet_101 > inception_v3 > resnet50\n",
        "\n",
        "params = {\n",
        "    'resnetwide_101': {\n",
        "        'lr' : 0.1,\n",
        "        'weight_decay': 0, #1e-8\n",
        "        'momentum': 0.2 ,\n",
        "        'batch_size': 32,\n",
        "        'adap': True\n",
        "    },\n",
        "    'resnet_101': {\n",
        "        'lr': 0.1,\n",
        "        'weight_decay': 2e-4,\n",
        "        'momentum': 0.9 ,\n",
        "        'batch_size': 64,\n",
        "        'adap': True\n",
        "    },\n",
        "    'renet_50': {\n",
        "        'lr' : 0.1,\n",
        "        'weight_decay': 1e-5,\n",
        "        'momentum': 0.9,\n",
        "        'batch_size': 64,\n",
        "        'adap': True\n",
        "    },\n",
        "    'inception_v3': {\n",
        "        'lr' : 0.01,\n",
        "        'weight_decay': 0,\n",
        "        'momentum': 0.9,\n",
        "        'batch_size': 64,\n",
        "        'adap': False\n",
        "    }\n",
        "    \n",
        "}"
      ],
      "execution_count": 0,
      "outputs": []
    },
    {
      "cell_type": "code",
      "metadata": {
        "id": "KJfLQRFawWS9",
        "colab_type": "code",
        "outputId": "a21da753-b09c-480f-b608-ba9c3e1182ac",
        "colab": {
          "base_uri": "https://localhost:8080/",
          "height": 100,
          "referenced_widgets": [
            "be31cb91fe62483dae29dad098431194",
            "fa858f43e42c4ff4948a4baab335c7d2",
            "5bfab60fd5fb4e32a0af8bf26808acc1",
            "d6ee09de617141c78cc33fc2d983e1af",
            "0699bd7da7594a9e9a52c961d502607d",
            "e633f5f792a34bab910d6ba8971e7b72",
            "d9f2169e998a48aba18beecc7e0ca0c2",
            "953ca656d69f45e8baed0ab254dd9976"
          ]
        }
      },
      "source": [
        "# Other Hyperparameters\n",
        "seed = 42\n",
        "test_batch_size = 1000\n",
        "n_epochs = 30\n",
        "\n",
        "model_name = 'resnetwide_101' #our best model\n",
        "\n",
        "if model_name == 'resnetwide_101': \n",
        "    model = models.wide_resnet101_2(pretrained=True),\n",
        "if model_name == 'resnet_101':  \n",
        "    model = models.resnet101(pretrained=True),\n",
        "if model_name == 'renet_50':  \n",
        "    model = models.wide_resnet50_2(pretrained=True),\n",
        "if model_name == 'inception_v3':  \n",
        "    model = models.inception_v3(pretrained=True)\n",
        "\n",
        "model = models.resnet101(pretrained=True)\n",
        "lr = params[model_name]['lr']\n",
        "weight_decay = params[model_name]['weight_decay']\n",
        "momentum = params[model_name]['momentum']\n",
        "batch_size = params[model_name]['batch_size']\n",
        "adap = params[model_name]['adap']\n",
        "\n",
        "print('model:',model_name, ' learning rate:', lr, \" weight_decay:\", weight_decay, ' momentum: ', momentum, ' batch size: ', batch_size)"
      ],
      "execution_count": 0,
      "outputs": [
        {
          "output_type": "stream",
          "text": [
            "Downloading: \"https://download.pytorch.org/models/wide_resnet101_2-32ee1156.pth\" to /root/.cache/torch/checkpoints/wide_resnet101_2-32ee1156.pth\n"
          ],
          "name": "stderr"
        },
        {
          "output_type": "display_data",
          "data": {
            "application/vnd.jupyter.widget-view+json": {
              "model_id": "be31cb91fe62483dae29dad098431194",
              "version_minor": 0,
              "version_major": 2
            },
            "text/plain": [
              "HBox(children=(FloatProgress(value=0.0, max=254695146.0), HTML(value='')))"
            ]
          },
          "metadata": {
            "tags": []
          }
        },
        {
          "output_type": "stream",
          "text": [
            "\n",
            "model: resnetwide_101  learning rate: 0.1  weight_decay: 0  momentum:  0.2  batch size:  32\n"
          ],
          "name": "stdout"
        }
      ]
    },
    {
      "cell_type": "markdown",
      "metadata": {
        "id": "G88ikEU5wWTA",
        "colab_type": "text"
      },
      "source": [
        "### 3. Data Processing"
      ]
    },
    {
      "cell_type": "markdown",
      "metadata": {
        "id": "hM0kQ9J7wWTB",
        "colab_type": "text"
      },
      "source": [
        "##### Import training data, and preprocessing"
      ]
    },
    {
      "cell_type": "code",
      "metadata": {
        "id": "1q16zyuVwWTC",
        "colab_type": "code",
        "outputId": "39a28fb5-365e-4ab3-ca76-63aa4e580a7d",
        "colab": {
          "base_uri": "https://localhost:8080/",
          "height": 68
        }
      },
      "source": [
        "# path of training data\n",
        "train_data_path = './train'  #path for kaggle: '/kaggle/input/acse-miniproject/train' \n",
        "\n",
        "# find all image file\n",
        "# path for kaggle: '/kaggle/input/acse-miniproject/mapping.json' \n",
        "with open(\"./mapping.json\",'r', encoding='UTF-8') as f:\n",
        "     load_dict = json.load(f)\n",
        "\n",
        "        \n",
        "train_file = glob.glob(train_data_path+'/*/images/*.JPEG')\n",
        "print(\"load file name sucess! number of images found: \",len(train_file))\n",
        "\n",
        "\n",
        "# convert all images to \"RGB\" with 3 channels\n",
        "# check labels\n",
        "train_data = []\n",
        "labels = []\n",
        "for f in train_file:\n",
        "    img = np.array(Image.open(f))\n",
        "    label_name = f.split('/')[2] #kaggle: [5] \n",
        "    label = load_dict.get(label_name)\n",
        "    if img.shape != (64,64,3):\n",
        "        img = Image.fromarray(np.uint8(img))\n",
        "        img = np.asarray(img.convert('RGB'))\n",
        "    \n",
        "    train_data.append(img)\n",
        "    labels.append(label)\n",
        "\n",
        "#convert to numpy array\n",
        "train_data = np.array(train_data)\n",
        "labels = np.array(labels)\n",
        "print(\"Size of train data feature: \",train_data.shape)\n",
        "print(\"Szie of train data labels\", labels.shape)\n",
        "del train_file"
      ],
      "execution_count": 0,
      "outputs": [
        {
          "output_type": "stream",
          "text": [
            "load file name sucess! number of images found:  100000\n",
            "Size of train data feature:  (100000, 64, 64, 3)\n",
            "Szie of train data labels (100000,)\n"
          ],
          "name": "stdout"
        }
      ]
    },
    {
      "cell_type": "code",
      "metadata": {
        "id": "JWx0dgaRwWTG",
        "colab_type": "code",
        "outputId": "fbfc91f1-215e-49f2-c92c-6b3a3460101e",
        "colab": {
          "base_uri": "https://localhost:8080/",
          "height": 51
        }
      },
      "source": [
        "# Calculate mean and std, since it is fixed for given data, don't have to calculate all the time\n",
        "\n",
        "# mean = train_data.mean(axis=(0,1,2))/255\n",
        "# std = train_data.std(axis=(0,1,2))/255\n",
        "mean=[0.4802, 0.4481, 0.3975]\n",
        "std=[0.2770, 0.2691, 0.2821]\n",
        "\n",
        "print(\"mean: \", mean)\n",
        "print(\"std: \", std)"
      ],
      "execution_count": 0,
      "outputs": [
        {
          "output_type": "stream",
          "text": [
            "mean:  [0.4802, 0.4481, 0.3975]\n",
            "std:  [0.277, 0.2691, 0.2821]\n"
          ],
          "name": "stdout"
        }
      ]
    },
    {
      "cell_type": "markdown",
      "metadata": {
        "id": "r9NzUGB5YybE",
        "colab_type": "text"
      },
      "source": [
        "#### Shuffle data, split validation and training"
      ]
    },
    {
      "cell_type": "code",
      "metadata": {
        "id": "LH9BYZvBwWTK",
        "colab_type": "code",
        "outputId": "508d0f61-f015-40fd-f8bd-bc60b1bb504b",
        "colab": {
          "base_uri": "https://localhost:8080/",
          "height": 85
        }
      },
      "source": [
        "# shuffle the data of validation and train to size 1:9\n",
        "shuffler = StratifiedShuffleSplit(n_splits=1, test_size=0.1, random_state=42).split(train_data, labels)\n",
        "\n",
        "indices = [(train_idx, validation_idx) for train_idx, validation_idx in shuffler][0]\n",
        "\n",
        "print(\"number of train data:\", len(indices[0]))\n",
        "print(\"number of validation data:\", len(indices[1]))\n",
        "\n",
        "X_train, y_train = torch.tensor(train_data[indices[0]]).float(), torch.tensor(labels)[indices[0]]\n",
        "X_val, y_val = torch.tensor(train_data[indices[1]]).float(), torch.tensor(labels)[indices[1]]\n",
        "\n",
        "# convert the data to shape in (samples, channel, dim_x, dim_y)\n",
        "X_train = X_train.permute(0,3,1,2)\n",
        "X_val = X_val.permute(0,3,1,2)\n",
        "\n",
        "\n",
        "print(\"train: \", X_train.size())\n",
        "print(\"validtaion:\", X_val.size())\n",
        "\n",
        "del train_data, labels"
      ],
      "execution_count": 0,
      "outputs": [
        {
          "output_type": "stream",
          "text": [
            "number of train data: 90000\n",
            "number of validation data: 10000\n",
            "train:  torch.Size([90000, 3, 64, 64])\n",
            "validtaion: torch.Size([10000, 3, 64, 64])\n"
          ],
          "name": "stdout"
        }
      ]
    },
    {
      "cell_type": "markdown",
      "metadata": {
        "id": "-yLOO_3wY4EO",
        "colab_type": "text"
      },
      "source": [
        "#### Data augumentation and Normalization"
      ]
    },
    {
      "cell_type": "code",
      "metadata": {
        "id": "PXTVoPU7wWTO",
        "colab_type": "code",
        "colab": {}
      },
      "source": [
        "# preprocessing: data augmentation\n",
        "\n",
        "class AddGaussianNoise(object):\n",
        "    def __init__(self, mean=0., std=1.):\n",
        "        self.std = std\n",
        "        self.mean = mean\n",
        "        \n",
        "    def __call__(self, tensor):\n",
        "        return tensor + torch.randn(tensor.size()) * self.std + self.mean\n",
        "    \n",
        "    def __repr__(self):\n",
        "        return self.__class__.__name__ + '(mean={0}, std={1})'.format(self.mean, self.std)\n",
        "\n",
        "train_transform = torchvision.transforms.Compose([\n",
        "    transforms.ToPILImage(),\n",
        "    transforms.Resize((224,224)),\n",
        "    # transforms.ColorJitter(contrast=0.1),\n",
        "    # transforms.RandomCrop(224, padding=8),\n",
        "    transforms.RandomHorizontalFlip(),\n",
        "    transforms.RandomRotation(10),\n",
        "    transforms.ToTensor(),\n",
        "    transforms.RandomApply([AddGaussianNoise(0.0, 0.05)], p = 0.1),\n",
        "    transforms.Normalize(mean, std)])\n",
        "\n",
        "valid_transform = torchvision.transforms.Compose([\n",
        "    transforms.ToPILImage(),\n",
        "    transforms.Resize((224,224)),\n",
        "    transforms.ToTensor(),\n",
        "    transforms.Normalize(mean, std)])\n",
        "\n",
        "# create training set and loader\n",
        "train_set = CustomImageTensorDataset(X_train, y_train.long(), transform=train_transform)\n",
        "valid_set = CustomImageTensorDataset(X_val, y_val.long(), transform=valid_transform)\n",
        "\n",
        "#SIMPLE SET TO LOADTER\n",
        "train_loader = DataLoader(train_set, batch_size=batch_size, shuffle=True, num_workers=0)\n",
        "valid_loader = DataLoader(valid_set, batch_size=test_batch_size, shuffle=False, num_workers=0)\n",
        "\n",
        "del train_set, valid_set, X_train, y_train, X_val, y_val"
      ],
      "execution_count": 0,
      "outputs": []
    },
    {
      "cell_type": "markdown",
      "metadata": {
        "id": "e14plS8WwWTW",
        "colab_type": "text"
      },
      "source": [
        "### 4. Train model"
      ]
    },
    {
      "cell_type": "markdown",
      "metadata": {
        "id": "Q-XRrRFqwWTW",
        "colab_type": "text"
      },
      "source": [
        "#### Function define"
      ]
    },
    {
      "cell_type": "code",
      "metadata": {
        "id": "CMgel4OZwWTX",
        "colab_type": "code",
        "colab": {}
      },
      "source": [
        "#train + validate + evaluate\n",
        "def train(model, optimizer, criterion, data_loader, input_size):\n",
        "    model.train()\n",
        "    train_loss, train_accuracy = 0, 0\n",
        "    for X, y in data_loader:\n",
        "        X, y = X.to(device), y.to(device)\n",
        "        optimizer.zero_grad()\n",
        "        a2 = model(X.view(-1, 3, input_size, input_size)) \n",
        "        loss = criterion(a2, y)\n",
        "        loss.backward()\n",
        "        train_loss += loss*X.size(0)\n",
        "        y_pred = F.log_softmax(a2, dim=1).max(1)[1]\n",
        "        train_accuracy += accuracy_score(y.cpu().numpy(), y_pred.detach().cpu().numpy())*X.size(0)\n",
        "        optimizer.step()  \n",
        "        \n",
        "    return train_loss/len(data_loader.dataset), train_accuracy/len(data_loader.dataset)\n",
        "  \n",
        "def validate(model, criterion, data_loader, input_size):\n",
        "    model.eval()\n",
        "    validation_loss, validation_accuracy = 0., 0.\n",
        "    for X, y in data_loader:\n",
        "        with torch.no_grad():\n",
        "            X, y = X.to(device), y.to(device)\n",
        "            a2 = model(X.view(-1, 3, input_size, input_size))\n",
        "            loss = criterion(a2, y)\n",
        "            validation_loss += loss*X.size(0)\n",
        "            y_pred = F.log_softmax(a2, dim=1).max(1)[1]\n",
        "            validation_accuracy += accuracy_score(y.cpu().numpy(), y_pred.cpu().numpy())*X.size(0)\n",
        "            \n",
        "    return validation_loss/len(data_loader.dataset), validation_accuracy/len(data_loader.dataset)\n",
        "  \n",
        "def evaluate(model, data_loader):\n",
        "    model.eval()\n",
        "    ys, y_preds = [], []\n",
        "    for X, y in data_loader:\n",
        "        with torch.no_grad():\n",
        "            X, y = X.to(device), y.to(device)\n",
        "            a2 = model(X)\n",
        "            y_pred = F.log_softmax(a2, dim=1).max(1)[1]\n",
        "            ys.append(y.cpu().numpy())\n",
        "            y_preds.append(y_pred.cpu().numpy())\n",
        "            \n",
        "    return np.concatenate(y_preds, 0),  np.concatenate(ys, 0)"
      ],
      "execution_count": 0,
      "outputs": []
    },
    {
      "cell_type": "code",
      "metadata": {
        "id": "qsx9_7PBwWTd",
        "colab_type": "code",
        "colab": {}
      },
      "source": [
        "# learning adaptive\n",
        "def exp_lr_scheduler(optimizer, epoch, lr_decay=0.1, lr_decay_epoch=3):\n",
        "    \"\"\"Decay learning rate by a factor of lr_decay every lr_decay_epoch epochs\"\"\"\n",
        "    if epoch % lr_decay_epoch:\n",
        "        return optimizer\n",
        "    for param_group in optimizer.param_groups:\n",
        "        if param_group['lr'] > 0.00001: param_group['lr'] *= lr_decay\n",
        "    return optimizer"
      ],
      "execution_count": 0,
      "outputs": []
    },
    {
      "cell_type": "code",
      "metadata": {
        "id": "dm9oOrEvwWTh",
        "colab_type": "code",
        "colab": {}
      },
      "source": [
        "def train_model(model, optimizer, input_size, weight_decay = 0., bias = True, adaptive = True):\n",
        "    set_seed(seed)\n",
        "    criterion = nn.CrossEntropyLoss()\n",
        "\n",
        "    liveloss = PlotLosses()\n",
        "    for epoch in range(n_epochs):\n",
        "        if adaptive: optimizer = exp_lr_scheduler(optimizer, epoch, lr_decay=0.97, lr_decay_epoch=1)\n",
        "        train_loss, train_accuracy = train(model, optimizer, criterion, train_loader, input_size)\n",
        "        \n",
        "        logs = {}\n",
        "        logs['' + 'log loss'] = train_loss.item()\n",
        "        logs['' + 'accuracy'] = train_accuracy.item()\n",
        "        validation_loss, validation_accuracy = validate(model, criterion, valid_loader, input_size)\n",
        "        logs['val_' + 'log loss'] = validation_loss.item()\n",
        "        logs['val_' + 'accuracy'] = validation_accuracy.item()\n",
        "\n",
        "        liveloss.update(logs)\n",
        "        liveloss.draw()\n",
        "\n",
        "    return model, liveloss"
      ],
      "execution_count": 0,
      "outputs": []
    },
    {
      "cell_type": "markdown",
      "metadata": {
        "id": "XYIWQiGJwWTl",
        "colab_type": "text"
      },
      "source": [
        "#### model initialize"
      ]
    },
    {
      "cell_type": "code",
      "metadata": {
        "id": "Al7fdhNxwWTl",
        "colab_type": "code",
        "colab": {}
      },
      "source": [
        "def set_parameter_requires_grad(model, feature_extracting):\n",
        "    if feature_extracting:\n",
        "        for param in model.parameters():\n",
        "            param.requires_grad = False\n",
        "    else:\n",
        "        # for name, param in model.named_parameters():\n",
        "        #     if param.requires_grad == True:\n",
        "        #         print(\"\\t\", name)\n",
        "        for name, param in model.named_parameters():\n",
        "            if ('bn' not in name) and ('fc' not in name):\n",
        "                param.requires_grad = False\n",
        "        # for name, param in model.named_parameters():\n",
        "        #     if param.requires_grad == True:\n",
        "        #         print(\"\\t\", name)\n",
        "\n",
        "def initialize_model(model_ft, model_name, feature_extract = False, num_classes = 200, use_pretrained=True):\n",
        "    # Initialize these variables which will be set in this if statement. Each of these\n",
        "    #   variables is model specific.\n",
        "    input_size = 0\n",
        "\n",
        "    if model_name[:6] == \"resnet\":\n",
        "        \n",
        "        set_parameter_requires_grad(model_ft, feature_extract)\n",
        "        input_size = 224\n",
        "\n",
        "    elif model_name == \"inception\":\n",
        "        \"\"\" Inception v3\n",
        "         Be careful, expects (299,299) sized images and has auxiliary output\n",
        "         \"\"\"\n",
        "        model_ft = models.inception_v3(pretrained=use_pretrained)\n",
        "        set_parameter_requires_grad(model_ft, feature_extract)\n",
        "        # Handle the auxilary net\n",
        "        num_ftrs = model_ft.AuxLogits.fc.in_features\n",
        "        model_ft.AuxLogits.fc = nn.Linear(num_ftrs, num_classes)\n",
        "        input_size = 299\n",
        "\n",
        "    else:\n",
        "        print(\"Invalid model name, exiting...\")\n",
        "        exit()\n",
        "        \n",
        "    # set the final classes to 200\n",
        "    num_ftrs = model_ft.fc.in_features\n",
        "    model_ft.fc = nn.Linear(num_ftrs, 200)\n",
        "\n",
        "    if torch.cuda.is_available():\n",
        "        model_ft = model_ft.cuda()\n",
        "    \n",
        "    return model_ft, input_size\n",
        "\n",
        "# Initialize the model for this run\n",
        "model_ft, input_size = initialize_model(model, model_name, False, use_pretrained=True)\n",
        "\n",
        "# Print the model we just instantiated\n",
        "# print(model_ft)"
      ],
      "execution_count": 0,
      "outputs": []
    },
    {
      "cell_type": "markdown",
      "metadata": {
        "id": "PY7IZQmVEa0s",
        "colab_type": "text"
      },
      "source": [
        "#### (option) load model from file"
      ]
    },
    {
      "cell_type": "code",
      "metadata": {
        "id": "CompYOD9EDcd",
        "colab_type": "code",
        "colab": {}
      },
      "source": [
        "# load model\n",
        "model_ft = torch.load('./resnet50_1e-1adp_64_80_70.pth')\n",
        "input_size = 244"
      ],
      "execution_count": 0,
      "outputs": []
    },
    {
      "cell_type": "markdown",
      "metadata": {
        "id": "JZlhxWrvwWTo",
        "colab_type": "text"
      },
      "source": [
        "#### Model training and save"
      ]
    },
    {
      "cell_type": "code",
      "metadata": {
        "id": "WBnAWaUMKNjW",
        "colab_type": "code",
        "outputId": "94b2864e-1af3-447a-cb28-c9723f72a208",
        "colab": {
          "base_uri": "https://localhost:8080/",
          "height": 34
        }
      },
      "source": [
        "print('model:',model_name, ' learning rate:', lr, \" weight_decay:\", weight_decay, ' momentum: ', momentum, ' batch size: ', batch_size, \" adapative: \", adap)"
      ],
      "execution_count": 0,
      "outputs": [
        {
          "output_type": "stream",
          "text": [
            "model: resnetwide_101  learning rate: 0.1  weight_decay: 0  momentum:  0.2  batch size:  32\n"
          ],
          "name": "stdout"
        }
      ]
    },
    {
      "cell_type": "code",
      "metadata": {
        "id": "sSVHEUdQwWTo",
        "colab_type": "code",
        "outputId": "aafd0b76-be79-4555-861a-682dc4001409",
        "colab": {
          "base_uri": "https://localhost:8080/",
          "height": 428
        }
      },
      "source": [
        "optimizer = torch.optim.SGD(model_ft.parameters(), lr=lr, momentum=momentum, weight_decay = weight_decay)\n",
        "model, log = train_model(model_ft, optimizer, input_size, adaptive = adap)"
      ],
      "execution_count": 0,
      "outputs": [
        {
          "output_type": "display_data",
          "data": {
            "image/png": "[encoded data removed]",
            "text/plain": [
              "<Figure size 864x576 with 2 Axes>"
            ]
          },
          "metadata": {
            "tags": [],
            "needs_background": "light"
          }
        },
        {
          "output_type": "stream",
          "text": [
            "accuracy\n",
            "\ttraining         \t (min:    0.475, max:    0.807, cur:    0.807)\n",
            "\tvalidation       \t (min:    0.538, max:    0.762, cur:    0.760)\n",
            "log loss\n",
            "\ttraining         \t (min:    0.673, max:    2.194, cur:    0.673)\n",
            "\tvalidation       \t (min:    0.913, max:    1.868, cur:    0.923)\n"
          ],
          "name": "stdout"
        }
      ]
    },
    {
      "cell_type": "code",
      "metadata": {
        "id": "NbE4f1QFCEmm",
        "colab_type": "code",
        "outputId": "c29e85f5-55ba-4832-88f3-8e9014562182",
        "colab": {
          "base_uri": "https://localhost:8080/",
          "height": 428
        }
      },
      "source": [
        "# wide resnet50\n",
        "optimizer = torch.optim.SGD(model_ft.parameters(), lr=0.256, momentum=momentum, weight_decay = 1e-5)\n",
        "model, log = train_model(model_ft, optimizer, input_size)"
      ],
      "execution_count": 0,
      "outputs": [
        {
          "output_type": "display_data",
          "data": {
            "image/png": "[encoded data removed]",
            "text/plain": [
              "<Figure size 864x576 with 2 Axes>"
            ]
          },
          "metadata": {
            "tags": [],
            "needs_background": "light"
          }
        },
        {
          "output_type": "stream",
          "text": [
            "accuracy\n",
            "\ttraining         \t (min:    0.208, max:    0.815, cur:    0.815)\n",
            "\tvalidation       \t (min:    0.339, max:    0.679, cur:    0.679)\n",
            "log loss\n",
            "\ttraining         \t (min:    0.685, max:    3.591, cur:    0.685)\n",
            "\tvalidation       \t (min:    1.300, max:    2.812, cur:    1.300)\n"
          ],
          "name": "stdout"
        }
      ]
    },
    {
      "cell_type": "code",
      "metadata": {
        "id": "cv8qjYva9ygI",
        "colab_type": "code",
        "colab": {}
      },
      "source": [
        "torch.save(model_resnet, save_path + model_name + \"_\" + weight_decay + \"_\" + batch_size + \"_\" + lr + \".pth\")"
      ],
      "execution_count": 0,
      "outputs": []
    },
    {
      "cell_type": "markdown",
      "metadata": {
        "id": "hOvD53oSF1cU",
        "colab_type": "text"
      },
      "source": [
        "### 5. Test\n"
      ]
    },
    {
      "cell_type": "markdown",
      "metadata": {
        "id": "_ZZEcXj9wWTR",
        "colab_type": "text"
      },
      "source": [
        "#### Import testing data"
      ]
    },
    {
      "cell_type": "code",
      "metadata": {
        "id": "4MICmy7wwWTS",
        "colab_type": "code",
        "colab": {}
      },
      "source": [
        "import glob\n",
        "from PIL import Image\n",
        "import numpy as np\n",
        "import pandas as pd\n",
        "import json \n",
        "\n",
        "test_file = glob.glob('./test/images/*.JPEG') #'/content/drive/My Drive/Logistic/train/images/*.JPEG'\n",
        "print(len(test_file))\n",
        "test_data = []\n",
        "test_names = []\n",
        "for f in test_file:\n",
        "    \n",
        "    img = np.array(Image.open(f))\n",
        "    test_name = f.split('/')[3][5:-5] #[7][5:-5] \n",
        "    #label = load_dict.get(label_name)\n",
        "    if img.shape != (64,64,3):\n",
        "        img = np.stack((img,)*3, axis=-1)\n",
        "    test_data.append(img)\n",
        "    test_names.append(int(test_name))\n",
        "print(test_names[:5])\n",
        "\n",
        "#y_test is only used for generating dataset. it's not the real labels\n",
        "y_test = np.array(test_names)\n",
        "y_test = torch.tensor(y_test)\n",
        " \n",
        "X_test = np.array(test_data)\n",
        "X_test = torch.tensor(X_test).float()\n",
        "X_test = X_test.permute(0,3,1,2)\n",
        " \n",
        "test_set = CustomImageTensorDataset(X_test, y_test.long(), transform=valid_transform)\n",
        "test_loader = torch.utils.data.DataLoader(\n",
        "        test_set,\n",
        "        batch_size=test_batch_size,\n",
        "        num_workers=0,\n",
        "        shuffle=False\n",
        ")"
      ],
      "execution_count": 0,
      "outputs": []
    },
    {
      "cell_type": "markdown",
      "metadata": {
        "id": "x5xf0Ls5YkE9",
        "colab_type": "text"
      },
      "source": [
        "#### Testing"
      ]
    },
    {
      "cell_type": "code",
      "metadata": {
        "id": "P1CkqzT49uJH",
        "colab_type": "code",
        "colab": {}
      },
      "source": [
        "y_pred, y_gt = evaluate(model_resnet, test_loader)\n",
        "y_pred[:5], y_gt[:5]\n",
        "res = {}\n",
        "for i in range(10000):\n",
        "    res[\"test_\" + str(y_gt[i]) + \".jpeg\"] = y_pred[i]\n",
        "res\n",
        "import csv\n",
        "#'/content/drive/My Drive/Logistic/resnet50.csv'\n",
        "with open(save_path + model_name + \"_\" + weight_decay + \"_\" + batch_size + \"_\" + lr + '.csv', 'w', newline='') as file:\n",
        "    writer = csv.writer(file)\n",
        "    writer.writerow([\"Filename\", \"Label\"])\n",
        "    for key, item in res.items():\n",
        "        writer.writerow([key, item])"
      ],
      "execution_count": 0,
      "outputs": []
    }
  ]
}